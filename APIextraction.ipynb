{
 "cells": [
  {
   "cell_type": "code",
   "execution_count": 1,
   "metadata": {},
   "outputs": [],
   "source": [
    "#importing libraries\n",
    "\n",
    "import pandas as pd\n",
    "import numpy as np\n",
    "import requests\n",
    "import json"
   ]
  },
  {
   "cell_type": "code",
   "execution_count": 2,
   "metadata": {},
   "outputs": [],
   "source": [
    "#the urls\n",
    "\n",
    "url_list=['https://api.themoviedb.org/3/movie/top_rated?api_key=8265bd1679663a7ea12ac168da84d2e8&language=en-US&page=1','https://api.themoviedb.org/3/movie/top_rated?api_key=8265bd1679663a7ea12ac168da84d2e8&language=en-US&page=2','https://api.themoviedb.org/3/movie/top_rated?api_key=8265bd1679663a7ea12ac168da84d2e8&language=en-US&page=3','https://api.themoviedb.org/3/movie/top_rated?api_key=8265bd1679663a7ea12ac168da84d2e8&language=en-US&page=4','https://api.themoviedb.org/3/movie/top_rated?api_key=8265bd1679663a7ea12ac168da84d2e8&language=en-US&page=5','https://api.themoviedb.org/3/movie/top_rated?api_key=8265bd1679663a7ea12ac168da84d2e8&language=en-US&page=6','https://api.themoviedb.org/3/movie/top_rated?api_key=8265bd1679663a7ea12ac168da84d2e8&language=en-US&page=7','https://api.themoviedb.org/3/movie/top_rated?api_key=8265bd1679663a7ea12ac168da84d2e8&language=en-US&page=8','https://api.themoviedb.org/3/movie/top_rated?api_key=8265bd1679663a7ea12ac168da84d2e8&language=en-US&page=9','https://api.themoviedb.org/3/movie/top_rated?api_key=8265bd1679663a7ea12ac168da84d2e8&language=en-US&page=10']"
   ]
  },
  {
   "cell_type": "code",
   "execution_count": 3,
   "metadata": {},
   "outputs": [],
   "source": [
    "popularity=[]\n",
    "idt=[]\n",
    "vote_avg=[]\n",
    "title=[]\n",
    "release_date=[]\n",
    "original_title=[]\n",
    "overview=[]"
   ]
  },
  {
   "cell_type": "code",
   "execution_count": 4,
   "metadata": {},
   "outputs": [],
   "source": [
    "for url in url_list:\n",
    "    json_content= requests.get(url).json()\n",
    "    content=json.dumps(json_content,indent=4,sort_keys=True)\n",
    "    data=json.loads(content)\n",
    "    for item in data['results']:\n",
    "        \n",
    "        #extracting 'popularity' \n",
    "        p=item['popularity']\n",
    "        popularity.append(p)\n",
    "        \n",
    "        #extracting 'id' \n",
    "        i=item['id']\n",
    "        idt.append(i)\n",
    "        \n",
    "        #extracting 'vote_average' \n",
    "        vote=item['vote_average']\n",
    "        vote_avg.append(vote)\n",
    "        \n",
    "        #extracting 'title' \n",
    "        t=item['title']\n",
    "        title.append(t)\n",
    "        \n",
    "        #extracting 'release_date' \n",
    "        r=item['release_date']\n",
    "        release_date.append(r)\n",
    "\n",
    "        #extracting 'original_title' \n",
    "        ot=item['original_title']\n",
    "        original_title.append(ot)\n",
    "        \n",
    "        #extracting 'overview' \n",
    "        o=item['overview']\n",
    "        overview.append(o)"
   ]
  },
  {
   "cell_type": "code",
   "execution_count": 5,
   "metadata": {},
   "outputs": [],
   "source": [
    "#creating dataframes \n",
    "\n",
    "movies={}\n",
    "movies['Id']=idt\n",
    "movies['Title']=title\n",
    "movies['Release Date']=release_date\n",
    "movies['Popularity']=popularity\n",
    "movies['Vote Average']=vote_avg\n",
    "movies['Original Title']=original_title\n",
    "movies['Overview']=overview\n",
    "movie_df = pd.DataFrame(data=movies)\n",
    "movie_df.to_csv('Movies_info.csv')"
   ]
  },
  {
   "cell_type": "code",
   "execution_count": 6,
   "metadata": {},
   "outputs": [
    {
     "data": {
      "text/plain": [
       "(200, 7)"
      ]
     },
     "execution_count": 6,
     "metadata": {},
     "output_type": "execute_result"
    }
   ],
   "source": [
    "#checking the final shape\n",
    "movie_df.shape"
   ]
  }
 ],
 "metadata": {
  "kernelspec": {
   "display_name": "Python 3",
   "language": "python",
   "name": "python3"
  },
  "language_info": {
   "codemirror_mode": {
    "name": "ipython",
    "version": 3
   },
   "file_extension": ".py",
   "mimetype": "text/x-python",
   "name": "python",
   "nbconvert_exporter": "python",
   "pygments_lexer": "ipython3",
   "version": "3.7.3"
  }
 },
 "nbformat": 4,
 "nbformat_minor": 2
}
